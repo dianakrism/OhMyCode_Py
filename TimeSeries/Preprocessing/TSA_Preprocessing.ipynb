{
 "cells": [
  {
   "cell_type": "markdown",
   "metadata": {},
   "source": [
    "# Preprocessing Time Series Data"
   ]
  },
  {
   "cell_type": "code",
   "execution_count": 1,
   "metadata": {},
   "outputs": [],
   "source": [
    "import pandas as pd"
   ]
  },
  {
   "cell_type": "code",
   "execution_count": 2,
   "metadata": {},
   "outputs": [
    {
     "data": {
      "text/html": [
       "<div>\n",
       "<style scoped>\n",
       "    .dataframe tbody tr th:only-of-type {\n",
       "        vertical-align: middle;\n",
       "    }\n",
       "\n",
       "    .dataframe tbody tr th {\n",
       "        vertical-align: top;\n",
       "    }\n",
       "\n",
       "    .dataframe thead th {\n",
       "        text-align: right;\n",
       "    }\n",
       "</style>\n",
       "<table border=\"1\" class=\"dataframe\">\n",
       "  <thead>\n",
       "    <tr style=\"text-align: right;\">\n",
       "      <th></th>\n",
       "      <th>Date</th>\n",
       "      <th>Open</th>\n",
       "      <th>High</th>\n",
       "      <th>Low</th>\n",
       "      <th>Close</th>\n",
       "      <th>Adj Close</th>\n",
       "      <th>Volume</th>\n",
       "    </tr>\n",
       "  </thead>\n",
       "  <tbody>\n",
       "    <tr>\n",
       "      <th>0</th>\n",
       "      <td>2021-04-05</td>\n",
       "      <td>3173.000000</td>\n",
       "      <td>3235.959961</td>\n",
       "      <td>3161.239990</td>\n",
       "      <td>3226.729980</td>\n",
       "      <td>3226.729980</td>\n",
       "      <td>3334900</td>\n",
       "    </tr>\n",
       "    <tr>\n",
       "      <th>1</th>\n",
       "      <td>2021-04-06</td>\n",
       "      <td>3223.750000</td>\n",
       "      <td>3247.310059</td>\n",
       "      <td>3217.040039</td>\n",
       "      <td>3223.820068</td>\n",
       "      <td>3223.820068</td>\n",
       "      <td>2537800</td>\n",
       "    </tr>\n",
       "    <tr>\n",
       "      <th>2</th>\n",
       "      <td>2021-04-07</td>\n",
       "      <td>3233.800049</td>\n",
       "      <td>3303.610107</td>\n",
       "      <td>3223.649902</td>\n",
       "      <td>3279.389893</td>\n",
       "      <td>3279.389893</td>\n",
       "      <td>3346200</td>\n",
       "    </tr>\n",
       "    <tr>\n",
       "      <th>3</th>\n",
       "      <td>2021-04-08</td>\n",
       "      <td>3310.899902</td>\n",
       "      <td>3324.500000</td>\n",
       "      <td>3292.000000</td>\n",
       "      <td>3299.300049</td>\n",
       "      <td>3299.300049</td>\n",
       "      <td>2812100</td>\n",
       "    </tr>\n",
       "    <tr>\n",
       "      <th>4</th>\n",
       "      <td>2021-04-09</td>\n",
       "      <td>3304.699951</td>\n",
       "      <td>3372.199951</td>\n",
       "      <td>3288.899902</td>\n",
       "      <td>3372.199951</td>\n",
       "      <td>3372.199951</td>\n",
       "      <td>4341500</td>\n",
       "    </tr>\n",
       "  </tbody>\n",
       "</table>\n",
       "</div>"
      ],
      "text/plain": [
       "         Date         Open         High          Low        Close  \\\n",
       "0  2021-04-05  3173.000000  3235.959961  3161.239990  3226.729980   \n",
       "1  2021-04-06  3223.750000  3247.310059  3217.040039  3223.820068   \n",
       "2  2021-04-07  3233.800049  3303.610107  3223.649902  3279.389893   \n",
       "3  2021-04-08  3310.899902  3324.500000  3292.000000  3299.300049   \n",
       "4  2021-04-09  3304.699951  3372.199951  3288.899902  3372.199951   \n",
       "\n",
       "     Adj Close   Volume  \n",
       "0  3226.729980  3334900  \n",
       "1  3223.820068  2537800  \n",
       "2  3279.389893  3346200  \n",
       "3  3299.300049  2812100  \n",
       "4  3372.199951  4341500  "
      ]
     },
     "execution_count": 2,
     "metadata": {},
     "output_type": "execute_result"
    }
   ],
   "source": [
    "df1 = pd.read_csv('AMZN.csv')\n",
    "df1.head()"
   ]
  },
  {
   "cell_type": "code",
   "execution_count": 3,
   "metadata": {},
   "outputs": [
    {
     "data": {
      "text/plain": [
       "Index(['Date', 'Open', 'High', 'Low', 'Close', 'Adj Close', 'Volume'], dtype='object')"
      ]
     },
     "execution_count": 3,
     "metadata": {},
     "output_type": "execute_result"
    }
   ],
   "source": [
    "df1.columns"
   ]
  },
  {
   "cell_type": "markdown",
   "metadata": {},
   "source": [
    "## 1. DateTimeIndex and Resample\n",
    "### DateTimeIndex"
   ]
  },
  {
   "cell_type": "code",
   "execution_count": 4,
   "metadata": {},
   "outputs": [
    {
     "data": {
      "text/html": [
       "<div>\n",
       "<style scoped>\n",
       "    .dataframe tbody tr th:only-of-type {\n",
       "        vertical-align: middle;\n",
       "    }\n",
       "\n",
       "    .dataframe tbody tr th {\n",
       "        vertical-align: top;\n",
       "    }\n",
       "\n",
       "    .dataframe thead th {\n",
       "        text-align: right;\n",
       "    }\n",
       "</style>\n",
       "<table border=\"1\" class=\"dataframe\">\n",
       "  <thead>\n",
       "    <tr style=\"text-align: right;\">\n",
       "      <th></th>\n",
       "      <th>Open</th>\n",
       "      <th>High</th>\n",
       "      <th>Low</th>\n",
       "      <th>Close</th>\n",
       "      <th>Adj Close</th>\n",
       "      <th>Volume</th>\n",
       "    </tr>\n",
       "    <tr>\n",
       "      <th>Date</th>\n",
       "      <th></th>\n",
       "      <th></th>\n",
       "      <th></th>\n",
       "      <th></th>\n",
       "      <th></th>\n",
       "      <th></th>\n",
       "    </tr>\n",
       "  </thead>\n",
       "  <tbody>\n",
       "    <tr>\n",
       "      <th>2021-04-05</th>\n",
       "      <td>3173.000000</td>\n",
       "      <td>3235.959961</td>\n",
       "      <td>3161.239990</td>\n",
       "      <td>3226.729980</td>\n",
       "      <td>3226.729980</td>\n",
       "      <td>3334900</td>\n",
       "    </tr>\n",
       "    <tr>\n",
       "      <th>2021-04-06</th>\n",
       "      <td>3223.750000</td>\n",
       "      <td>3247.310059</td>\n",
       "      <td>3217.040039</td>\n",
       "      <td>3223.820068</td>\n",
       "      <td>3223.820068</td>\n",
       "      <td>2537800</td>\n",
       "    </tr>\n",
       "    <tr>\n",
       "      <th>2021-04-07</th>\n",
       "      <td>3233.800049</td>\n",
       "      <td>3303.610107</td>\n",
       "      <td>3223.649902</td>\n",
       "      <td>3279.389893</td>\n",
       "      <td>3279.389893</td>\n",
       "      <td>3346200</td>\n",
       "    </tr>\n",
       "    <tr>\n",
       "      <th>2021-04-08</th>\n",
       "      <td>3310.899902</td>\n",
       "      <td>3324.500000</td>\n",
       "      <td>3292.000000</td>\n",
       "      <td>3299.300049</td>\n",
       "      <td>3299.300049</td>\n",
       "      <td>2812100</td>\n",
       "    </tr>\n",
       "    <tr>\n",
       "      <th>2021-04-09</th>\n",
       "      <td>3304.699951</td>\n",
       "      <td>3372.199951</td>\n",
       "      <td>3288.899902</td>\n",
       "      <td>3372.199951</td>\n",
       "      <td>3372.199951</td>\n",
       "      <td>4341500</td>\n",
       "    </tr>\n",
       "  </tbody>\n",
       "</table>\n",
       "</div>"
      ],
      "text/plain": [
       "                   Open         High          Low        Close    Adj Close  \\\n",
       "Date                                                                          \n",
       "2021-04-05  3173.000000  3235.959961  3161.239990  3226.729980  3226.729980   \n",
       "2021-04-06  3223.750000  3247.310059  3217.040039  3223.820068  3223.820068   \n",
       "2021-04-07  3233.800049  3303.610107  3223.649902  3279.389893  3279.389893   \n",
       "2021-04-08  3310.899902  3324.500000  3292.000000  3299.300049  3299.300049   \n",
       "2021-04-09  3304.699951  3372.199951  3288.899902  3372.199951  3372.199951   \n",
       "\n",
       "             Volume  \n",
       "Date                 \n",
       "2021-04-05  3334900  \n",
       "2021-04-06  2537800  \n",
       "2021-04-07  3346200  \n",
       "2021-04-08  2812100  \n",
       "2021-04-09  4341500  "
      ]
     },
     "execution_count": 4,
     "metadata": {},
     "output_type": "execute_result"
    }
   ],
   "source": [
    "df1 = pd.read_csv('AMZN.csv', parse_dates=[\"Date\"], index_col=\"Date\")\n",
    "df1.head()"
   ]
  },
  {
   "cell_type": "code",
   "execution_count": 6,
   "metadata": {},
   "outputs": [
    {
     "data": {
      "text/plain": [
       "DatetimeIndex(['2021-04-05', '2021-04-06', '2021-04-07', '2021-04-08',\n",
       "               '2021-04-09', '2021-04-12', '2021-04-13', '2021-04-14',\n",
       "               '2021-04-15', '2021-04-16', '2021-04-19', '2021-04-20',\n",
       "               '2021-04-21', '2021-04-22', '2021-04-23', '2021-04-26',\n",
       "               '2021-04-27', '2021-04-28', '2021-04-29', '2021-04-30',\n",
       "               '2021-05-03', '2021-05-04', '2021-05-05', '2021-05-06',\n",
       "               '2021-05-07', '2021-05-10', '2021-05-11', '2021-05-12',\n",
       "               '2021-05-13', '2021-05-14', '2021-05-17', '2021-05-18',\n",
       "               '2021-05-19', '2021-05-20', '2021-05-21', '2021-05-24',\n",
       "               '2021-05-25', '2021-05-26', '2021-05-27', '2021-05-28',\n",
       "               '2021-06-01', '2021-06-02', '2021-06-03', '2021-06-04',\n",
       "               '2021-06-07', '2021-06-08', '2021-06-09', '2021-06-10',\n",
       "               '2021-06-11', '2021-06-14', '2021-06-15', '2021-06-16',\n",
       "               '2021-06-17', '2021-06-18', '2021-06-21', '2021-06-22',\n",
       "               '2021-06-23', '2021-06-24', '2021-06-25', '2021-06-28',\n",
       "               '2021-06-29', '2021-06-30', '2021-07-01'],\n",
       "              dtype='datetime64[ns]', name='Date', freq=None)"
      ]
     },
     "execution_count": 6,
     "metadata": {},
     "output_type": "execute_result"
    }
   ],
   "source": [
    "df1.index"
   ]
  },
  {
   "cell_type": "markdown",
   "metadata": {},
   "source": [
    "#### Advantages of set the \"Date\" column as an index:\n",
    "- Partial indexing: select specific date of dataset"
   ]
  },
  {
   "cell_type": "code",
   "execution_count": 7,
   "metadata": {},
   "outputs": [
    {
     "name": "stderr",
     "output_type": "stream",
     "text": [
      "<ipython-input-7-ac471a29d6ee>:1: FutureWarning: Indexing a DataFrame with a datetimelike index using a single string to slice the rows, like `frame[string]`, is deprecated and will be removed in a future version. Use `frame.loc[string]` instead.\n",
      "  df1[\"2021-06\"].head()\n"
     ]
    },
    {
     "data": {
      "text/html": [
       "<div>\n",
       "<style scoped>\n",
       "    .dataframe tbody tr th:only-of-type {\n",
       "        vertical-align: middle;\n",
       "    }\n",
       "\n",
       "    .dataframe tbody tr th {\n",
       "        vertical-align: top;\n",
       "    }\n",
       "\n",
       "    .dataframe thead th {\n",
       "        text-align: right;\n",
       "    }\n",
       "</style>\n",
       "<table border=\"1\" class=\"dataframe\">\n",
       "  <thead>\n",
       "    <tr style=\"text-align: right;\">\n",
       "      <th></th>\n",
       "      <th>Open</th>\n",
       "      <th>High</th>\n",
       "      <th>Low</th>\n",
       "      <th>Close</th>\n",
       "      <th>Adj Close</th>\n",
       "      <th>Volume</th>\n",
       "    </tr>\n",
       "    <tr>\n",
       "      <th>Date</th>\n",
       "      <th></th>\n",
       "      <th></th>\n",
       "      <th></th>\n",
       "      <th></th>\n",
       "      <th></th>\n",
       "      <th></th>\n",
       "    </tr>\n",
       "  </thead>\n",
       "  <tbody>\n",
       "    <tr>\n",
       "      <th>2021-06-01</th>\n",
       "      <td>3243.500000</td>\n",
       "      <td>3250.979980</td>\n",
       "      <td>3209.060059</td>\n",
       "      <td>3218.649902</td>\n",
       "      <td>3218.649902</td>\n",
       "      <td>2430000</td>\n",
       "    </tr>\n",
       "    <tr>\n",
       "      <th>2021-06-02</th>\n",
       "      <td>3223.100098</td>\n",
       "      <td>3235.000000</td>\n",
       "      <td>3208.000000</td>\n",
       "      <td>3233.989990</td>\n",
       "      <td>3233.989990</td>\n",
       "      <td>2014500</td>\n",
       "    </tr>\n",
       "    <tr>\n",
       "      <th>2021-06-03</th>\n",
       "      <td>3204.229980</td>\n",
       "      <td>3214.439941</td>\n",
       "      <td>3184.030029</td>\n",
       "      <td>3187.010010</td>\n",
       "      <td>3187.010010</td>\n",
       "      <td>2398300</td>\n",
       "    </tr>\n",
       "    <tr>\n",
       "      <th>2021-06-04</th>\n",
       "      <td>3212.000000</td>\n",
       "      <td>3221.000000</td>\n",
       "      <td>3198.810059</td>\n",
       "      <td>3206.219971</td>\n",
       "      <td>3206.219971</td>\n",
       "      <td>2249700</td>\n",
       "    </tr>\n",
       "    <tr>\n",
       "      <th>2021-06-07</th>\n",
       "      <td>3197.330078</td>\n",
       "      <td>3208.000000</td>\n",
       "      <td>3172.199951</td>\n",
       "      <td>3198.010010</td>\n",
       "      <td>3198.010010</td>\n",
       "      <td>2215800</td>\n",
       "    </tr>\n",
       "  </tbody>\n",
       "</table>\n",
       "</div>"
      ],
      "text/plain": [
       "                   Open         High          Low        Close    Adj Close  \\\n",
       "Date                                                                          \n",
       "2021-06-01  3243.500000  3250.979980  3209.060059  3218.649902  3218.649902   \n",
       "2021-06-02  3223.100098  3235.000000  3208.000000  3233.989990  3233.989990   \n",
       "2021-06-03  3204.229980  3214.439941  3184.030029  3187.010010  3187.010010   \n",
       "2021-06-04  3212.000000  3221.000000  3198.810059  3206.219971  3206.219971   \n",
       "2021-06-07  3197.330078  3208.000000  3172.199951  3198.010010  3198.010010   \n",
       "\n",
       "             Volume  \n",
       "Date                 \n",
       "2021-06-01  2430000  \n",
       "2021-06-02  2014500  \n",
       "2021-06-03  2398300  \n",
       "2021-06-04  2249700  \n",
       "2021-06-07  2215800  "
      ]
     },
     "execution_count": 7,
     "metadata": {},
     "output_type": "execute_result"
    }
   ],
   "source": [
    "df1[\"2021-06\"].head()"
   ]
  },
  {
   "cell_type": "markdown",
   "metadata": {},
   "source": [
    "- Selecting specific date range of dataset"
   ]
  },
  {
   "cell_type": "code",
   "execution_count": 8,
   "metadata": {},
   "outputs": [
    {
     "data": {
      "text/html": [
       "<div>\n",
       "<style scoped>\n",
       "    .dataframe tbody tr th:only-of-type {\n",
       "        vertical-align: middle;\n",
       "    }\n",
       "\n",
       "    .dataframe tbody tr th {\n",
       "        vertical-align: top;\n",
       "    }\n",
       "\n",
       "    .dataframe thead th {\n",
       "        text-align: right;\n",
       "    }\n",
       "</style>\n",
       "<table border=\"1\" class=\"dataframe\">\n",
       "  <thead>\n",
       "    <tr style=\"text-align: right;\">\n",
       "      <th></th>\n",
       "      <th>Open</th>\n",
       "      <th>High</th>\n",
       "      <th>Low</th>\n",
       "      <th>Close</th>\n",
       "      <th>Adj Close</th>\n",
       "      <th>Volume</th>\n",
       "    </tr>\n",
       "    <tr>\n",
       "      <th>Date</th>\n",
       "      <th></th>\n",
       "      <th></th>\n",
       "      <th></th>\n",
       "      <th></th>\n",
       "      <th></th>\n",
       "      <th></th>\n",
       "    </tr>\n",
       "  </thead>\n",
       "  <tbody>\n",
       "    <tr>\n",
       "      <th>2021-04-05</th>\n",
       "      <td>3173.000000</td>\n",
       "      <td>3235.959961</td>\n",
       "      <td>3161.239990</td>\n",
       "      <td>3226.729980</td>\n",
       "      <td>3226.729980</td>\n",
       "      <td>3334900</td>\n",
       "    </tr>\n",
       "    <tr>\n",
       "      <th>2021-04-06</th>\n",
       "      <td>3223.750000</td>\n",
       "      <td>3247.310059</td>\n",
       "      <td>3217.040039</td>\n",
       "      <td>3223.820068</td>\n",
       "      <td>3223.820068</td>\n",
       "      <td>2537800</td>\n",
       "    </tr>\n",
       "    <tr>\n",
       "      <th>2021-04-07</th>\n",
       "      <td>3233.800049</td>\n",
       "      <td>3303.610107</td>\n",
       "      <td>3223.649902</td>\n",
       "      <td>3279.389893</td>\n",
       "      <td>3279.389893</td>\n",
       "      <td>3346200</td>\n",
       "    </tr>\n",
       "    <tr>\n",
       "      <th>2021-04-08</th>\n",
       "      <td>3310.899902</td>\n",
       "      <td>3324.500000</td>\n",
       "      <td>3292.000000</td>\n",
       "      <td>3299.300049</td>\n",
       "      <td>3299.300049</td>\n",
       "      <td>2812100</td>\n",
       "    </tr>\n",
       "    <tr>\n",
       "      <th>2021-04-09</th>\n",
       "      <td>3304.699951</td>\n",
       "      <td>3372.199951</td>\n",
       "      <td>3288.899902</td>\n",
       "      <td>3372.199951</td>\n",
       "      <td>3372.199951</td>\n",
       "      <td>4341500</td>\n",
       "    </tr>\n",
       "  </tbody>\n",
       "</table>\n",
       "</div>"
      ],
      "text/plain": [
       "                   Open         High          Low        Close    Adj Close  \\\n",
       "Date                                                                          \n",
       "2021-04-05  3173.000000  3235.959961  3161.239990  3226.729980  3226.729980   \n",
       "2021-04-06  3223.750000  3247.310059  3217.040039  3223.820068  3223.820068   \n",
       "2021-04-07  3233.800049  3303.610107  3223.649902  3279.389893  3279.389893   \n",
       "2021-04-08  3310.899902  3324.500000  3292.000000  3299.300049  3299.300049   \n",
       "2021-04-09  3304.699951  3372.199951  3288.899902  3372.199951  3372.199951   \n",
       "\n",
       "             Volume  \n",
       "Date                 \n",
       "2021-04-05  3334900  \n",
       "2021-04-06  2537800  \n",
       "2021-04-07  3346200  \n",
       "2021-04-08  2812100  \n",
       "2021-04-09  4341500  "
      ]
     },
     "execution_count": 8,
     "metadata": {},
     "output_type": "execute_result"
    }
   ],
   "source": [
    "df1[\"2021-04-05\":\"2021-04-09\"]"
   ]
  },
  {
   "cell_type": "markdown",
   "metadata": {},
   "source": [
    "### Resample\n",
    "we can resample it by monthly / weekly / showing a simple plot"
   ]
  },
  {
   "cell_type": "code",
   "execution_count": 9,
   "metadata": {
    "scrolled": true
   },
   "outputs": [
    {
     "data": {
      "text/plain": [
       "Date\n",
       "2021-04-30    20\n",
       "2021-05-31    20\n",
       "2021-06-30    22\n",
       "2021-07-31     1\n",
       "Freq: M, Name: Close, dtype: int64"
      ]
     },
     "execution_count": 9,
     "metadata": {},
     "output_type": "execute_result"
    }
   ],
   "source": [
    "df1.Close.resample(\"M\").count()"
   ]
  },
  {
   "cell_type": "code",
   "execution_count": 10,
   "metadata": {},
   "outputs": [
    {
     "data": {
      "text/plain": [
       "Date\n",
       "2021-04-11    3280.287988\n",
       "2021-04-18    3378.183984\n",
       "2021-04-25    3343.727979\n",
       "2021-05-02    3444.731983\n",
       "2021-05-09    3313.376074\n",
       "2021-05-16    3190.141943\n",
       "2021-05-23    3237.045996\n",
       "2021-05-30    3244.476025\n",
       "2021-06-06    3211.467468\n",
       "2021-06-13    3287.950000\n",
       "2021-06-20    3431.677978\n",
       "2021-06-27    3462.752002\n",
       "2021-07-04    3441.289917\n",
       "Freq: W-SUN, Name: Close, dtype: float64"
      ]
     },
     "execution_count": 10,
     "metadata": {},
     "output_type": "execute_result"
    }
   ],
   "source": [
    "df1.Close.resample(\"W\").mean()"
   ]
  },
  {
   "cell_type": "code",
   "execution_count": 11,
   "metadata": {},
   "outputs": [
    {
     "data": {
      "text/plain": [
       "<AxesSubplot:xlabel='Date'>"
      ]
     },
     "execution_count": 11,
     "metadata": {},
     "output_type": "execute_result"
    },
    {
     "data": {
      "image/png": "[encoded data removed]",
      "text/plain": [
       "<Figure size 432x288 with 1 Axes>"
      ]
     },
     "metadata": {
      "needs_background": "light"
     },
     "output_type": "display_data"
    }
   ],
   "source": [
    "%matplotlib inline\n",
    "df1.Close.resample(\"W\").mean().plot(kind ='bar')"
   ]
  },
  {
   "cell_type": "markdown",
   "metadata": {},
   "source": [
    "## 2. DateRange and Holiday"
   ]
  },
  {
   "cell_type": "code",
   "execution_count": 12,
   "metadata": {},
   "outputs": [
    {
     "data": {
      "text/html": [
       "<div>\n",
       "<style scoped>\n",
       "    .dataframe tbody tr th:only-of-type {\n",
       "        vertical-align: middle;\n",
       "    }\n",
       "\n",
       "    .dataframe tbody tr th {\n",
       "        vertical-align: top;\n",
       "    }\n",
       "\n",
       "    .dataframe thead th {\n",
       "        text-align: right;\n",
       "    }\n",
       "</style>\n",
       "<table border=\"1\" class=\"dataframe\">\n",
       "  <thead>\n",
       "    <tr style=\"text-align: right;\">\n",
       "      <th></th>\n",
       "      <th>Open</th>\n",
       "      <th>High</th>\n",
       "      <th>Low</th>\n",
       "      <th>Close</th>\n",
       "      <th>Adj Close</th>\n",
       "      <th>Volume</th>\n",
       "    </tr>\n",
       "  </thead>\n",
       "  <tbody>\n",
       "    <tr>\n",
       "      <th>0</th>\n",
       "      <td>3173.000000</td>\n",
       "      <td>3235.959961</td>\n",
       "      <td>3161.239990</td>\n",
       "      <td>3226.729980</td>\n",
       "      <td>3226.729980</td>\n",
       "      <td>3334900</td>\n",
       "    </tr>\n",
       "    <tr>\n",
       "      <th>1</th>\n",
       "      <td>3223.750000</td>\n",
       "      <td>3247.310059</td>\n",
       "      <td>3217.040039</td>\n",
       "      <td>3223.820068</td>\n",
       "      <td>3223.820068</td>\n",
       "      <td>2537800</td>\n",
       "    </tr>\n",
       "    <tr>\n",
       "      <th>2</th>\n",
       "      <td>3233.800049</td>\n",
       "      <td>3303.610107</td>\n",
       "      <td>3223.649902</td>\n",
       "      <td>3279.389893</td>\n",
       "      <td>3279.389893</td>\n",
       "      <td>3346200</td>\n",
       "    </tr>\n",
       "    <tr>\n",
       "      <th>3</th>\n",
       "      <td>3310.899902</td>\n",
       "      <td>3324.500000</td>\n",
       "      <td>3292.000000</td>\n",
       "      <td>3299.300049</td>\n",
       "      <td>3299.300049</td>\n",
       "      <td>2812100</td>\n",
       "    </tr>\n",
       "    <tr>\n",
       "      <th>4</th>\n",
       "      <td>3304.699951</td>\n",
       "      <td>3372.199951</td>\n",
       "      <td>3288.899902</td>\n",
       "      <td>3372.199951</td>\n",
       "      <td>3372.199951</td>\n",
       "      <td>4341500</td>\n",
       "    </tr>\n",
       "  </tbody>\n",
       "</table>\n",
       "</div>"
      ],
      "text/plain": [
       "          Open         High          Low        Close    Adj Close   Volume\n",
       "0  3173.000000  3235.959961  3161.239990  3226.729980  3226.729980  3334900\n",
       "1  3223.750000  3247.310059  3217.040039  3223.820068  3223.820068  2537800\n",
       "2  3233.800049  3303.610107  3223.649902  3279.389893  3279.389893  3346200\n",
       "3  3310.899902  3324.500000  3292.000000  3299.300049  3299.300049  2812100\n",
       "4  3304.699951  3372.199951  3288.899902  3372.199951  3372.199951  4341500"
      ]
     },
     "execution_count": 12,
     "metadata": {},
     "output_type": "execute_result"
    }
   ],
   "source": [
    "df2 = pd.read_csv(\"AMZN_no_dates.csv\")\n",
    "df2.head()"
   ]
  },
  {
   "cell_type": "code",
   "execution_count": 13,
   "metadata": {},
   "outputs": [
    {
     "data": {
      "text/plain": [
       "63"
      ]
     },
     "execution_count": 13,
     "metadata": {},
     "output_type": "execute_result"
    }
   ],
   "source": [
    "len(df2)"
   ]
  },
  {
   "cell_type": "code",
   "execution_count": 14,
   "metadata": {},
   "outputs": [
    {
     "name": "stdout",
     "output_type": "stream",
     "text": [
      "DatetimeIndex(['2021-04-05', '2021-04-06', '2021-04-07', '2021-04-08',\n",
      "               '2021-04-09', '2021-04-12', '2021-04-13', '2021-04-14',\n",
      "               '2021-04-15', '2021-04-16', '2021-04-19', '2021-04-20',\n",
      "               '2021-04-21', '2021-04-22', '2021-04-23', '2021-04-26',\n",
      "               '2021-04-27', '2021-04-28', '2021-04-29', '2021-04-30',\n",
      "               '2021-05-03', '2021-05-04', '2021-05-05', '2021-05-06',\n",
      "               '2021-05-07', '2021-05-10', '2021-05-11', '2021-05-12',\n",
      "               '2021-05-13', '2021-05-14', '2021-05-17', '2021-05-18',\n",
      "               '2021-05-19', '2021-05-20', '2021-05-21', '2021-05-24',\n",
      "               '2021-05-25', '2021-05-26', '2021-05-27', '2021-05-28',\n",
      "               '2021-05-31', '2021-06-01', '2021-06-02', '2021-06-03',\n",
      "               '2021-06-04', '2021-06-07', '2021-06-08', '2021-06-09',\n",
      "               '2021-06-10', '2021-06-11', '2021-06-14', '2021-06-15',\n",
      "               '2021-06-16', '2021-06-17', '2021-06-18', '2021-06-21',\n",
      "               '2021-06-22', '2021-06-23', '2021-06-24', '2021-06-25',\n",
      "               '2021-06-28', '2021-06-29', '2021-06-30', '2021-07-01'],\n",
      "              dtype='datetime64[ns]', freq='B')\n"
     ]
    },
    {
     "data": {
      "text/plain": [
       "64"
      ]
     },
     "execution_count": 14,
     "metadata": {},
     "output_type": "execute_result"
    }
   ],
   "source": [
    "rng = pd.date_range(start = '4/5/2021', end = '7/1/2021', freq = 'B')\n",
    "print(rng)\n",
    "len(rng) # --> records = 64. start to end = 63"
   ]
  },
  {
   "cell_type": "code",
   "execution_count": 15,
   "metadata": {},
   "outputs": [
    {
     "name": "stdout",
     "output_type": "stream",
     "text": [
      "DatetimeIndex(['2021-04-05', '2021-04-06', '2021-04-07', '2021-04-08',\n",
      "               '2021-04-09', '2021-04-12', '2021-04-13', '2021-04-14',\n",
      "               '2021-04-15', '2021-04-16', '2021-04-19', '2021-04-20',\n",
      "               '2021-04-21', '2021-04-22', '2021-04-23', '2021-04-26',\n",
      "               '2021-04-27', '2021-04-28', '2021-04-29', '2021-04-30',\n",
      "               '2021-05-03', '2021-05-04', '2021-05-05', '2021-05-06',\n",
      "               '2021-05-07', '2021-05-10', '2021-05-11', '2021-05-12',\n",
      "               '2021-05-13', '2021-05-14', '2021-05-17', '2021-05-18',\n",
      "               '2021-05-19', '2021-05-20', '2021-05-21', '2021-05-24',\n",
      "               '2021-05-25', '2021-05-26', '2021-05-27', '2021-05-28',\n",
      "               '2021-06-01', '2021-06-02', '2021-06-03', '2021-06-04',\n",
      "               '2021-06-07', '2021-06-08', '2021-06-09', '2021-06-10',\n",
      "               '2021-06-11', '2021-06-14', '2021-06-15', '2021-06-16',\n",
      "               '2021-06-17', '2021-06-18', '2021-06-21', '2021-06-22',\n",
      "               '2021-06-23', '2021-06-24', '2021-06-25', '2021-06-28',\n",
      "               '2021-06-29', '2021-06-30', '2021-07-01'],\n",
      "              dtype='datetime64[ns]', freq='C')\n",
      "records of this data is:  63\n"
     ]
    }
   ],
   "source": [
    "from pandas.tseries.holiday import USFederalHolidayCalendar\n",
    "from pandas.tseries.offsets import CustomBusinessDay\n",
    "dates = pd.DataFrame({'date':pd.date_range('2021-04-05', '2021-07-01')})\n",
    "us_cal = CustomBusinessDay(calendar=USFederalHolidayCalendar())\n",
    "rng = pd.date_range(start = '4/5/2021', end = '7/1/2021', freq=us_cal)\n",
    "print(rng)\n",
    "print('records of this data is: ', len(rng))"
   ]
  },
  {
   "cell_type": "code",
   "execution_count": 16,
   "metadata": {},
   "outputs": [
    {
     "data": {
      "text/html": [
       "<div>\n",
       "<style scoped>\n",
       "    .dataframe tbody tr th:only-of-type {\n",
       "        vertical-align: middle;\n",
       "    }\n",
       "\n",
       "    .dataframe tbody tr th {\n",
       "        vertical-align: top;\n",
       "    }\n",
       "\n",
       "    .dataframe thead th {\n",
       "        text-align: right;\n",
       "    }\n",
       "</style>\n",
       "<table border=\"1\" class=\"dataframe\">\n",
       "  <thead>\n",
       "    <tr style=\"text-align: right;\">\n",
       "      <th></th>\n",
       "      <th>Open</th>\n",
       "      <th>High</th>\n",
       "      <th>Low</th>\n",
       "      <th>Close</th>\n",
       "      <th>Adj Close</th>\n",
       "      <th>Volume</th>\n",
       "    </tr>\n",
       "  </thead>\n",
       "  <tbody>\n",
       "    <tr>\n",
       "      <th>2021-04-05</th>\n",
       "      <td>3173.000000</td>\n",
       "      <td>3235.959961</td>\n",
       "      <td>3161.239990</td>\n",
       "      <td>3226.729980</td>\n",
       "      <td>3226.729980</td>\n",
       "      <td>3334900</td>\n",
       "    </tr>\n",
       "    <tr>\n",
       "      <th>2021-04-06</th>\n",
       "      <td>3223.750000</td>\n",
       "      <td>3247.310059</td>\n",
       "      <td>3217.040039</td>\n",
       "      <td>3223.820068</td>\n",
       "      <td>3223.820068</td>\n",
       "      <td>2537800</td>\n",
       "    </tr>\n",
       "    <tr>\n",
       "      <th>2021-04-07</th>\n",
       "      <td>3233.800049</td>\n",
       "      <td>3303.610107</td>\n",
       "      <td>3223.649902</td>\n",
       "      <td>3279.389893</td>\n",
       "      <td>3279.389893</td>\n",
       "      <td>3346200</td>\n",
       "    </tr>\n",
       "    <tr>\n",
       "      <th>2021-04-08</th>\n",
       "      <td>3310.899902</td>\n",
       "      <td>3324.500000</td>\n",
       "      <td>3292.000000</td>\n",
       "      <td>3299.300049</td>\n",
       "      <td>3299.300049</td>\n",
       "      <td>2812100</td>\n",
       "    </tr>\n",
       "    <tr>\n",
       "      <th>2021-04-09</th>\n",
       "      <td>3304.699951</td>\n",
       "      <td>3372.199951</td>\n",
       "      <td>3288.899902</td>\n",
       "      <td>3372.199951</td>\n",
       "      <td>3372.199951</td>\n",
       "      <td>4341500</td>\n",
       "    </tr>\n",
       "  </tbody>\n",
       "</table>\n",
       "</div>"
      ],
      "text/plain": [
       "                   Open         High          Low        Close    Adj Close  \\\n",
       "2021-04-05  3173.000000  3235.959961  3161.239990  3226.729980  3226.729980   \n",
       "2021-04-06  3223.750000  3247.310059  3217.040039  3223.820068  3223.820068   \n",
       "2021-04-07  3233.800049  3303.610107  3223.649902  3279.389893  3279.389893   \n",
       "2021-04-08  3310.899902  3324.500000  3292.000000  3299.300049  3299.300049   \n",
       "2021-04-09  3304.699951  3372.199951  3288.899902  3372.199951  3372.199951   \n",
       "\n",
       "             Volume  \n",
       "2021-04-05  3334900  \n",
       "2021-04-06  2537800  \n",
       "2021-04-07  3346200  \n",
       "2021-04-08  2812100  \n",
       "2021-04-09  4341500  "
      ]
     },
     "execution_count": 16,
     "metadata": {},
     "output_type": "execute_result"
    }
   ],
   "source": [
    "df2.set_index(rng, inplace = True)\n",
    "df2.head()"
   ]
  },
  {
   "cell_type": "code",
   "execution_count": 17,
   "metadata": {},
   "outputs": [
    {
     "data": {
      "text/plain": [
       "DatetimeIndex(['2021-04-05', '2021-04-06', '2021-04-07', '2021-04-08',\n",
       "               '2021-04-09', '2021-04-12', '2021-04-13', '2021-04-14',\n",
       "               '2021-04-15', '2021-04-16', '2021-04-19', '2021-04-20',\n",
       "               '2021-04-21', '2021-04-22', '2021-04-23', '2021-04-26',\n",
       "               '2021-04-27', '2021-04-28', '2021-04-29', '2021-04-30',\n",
       "               '2021-05-03', '2021-05-04', '2021-05-05', '2021-05-06',\n",
       "               '2021-05-07', '2021-05-10', '2021-05-11', '2021-05-12',\n",
       "               '2021-05-13', '2021-05-14', '2021-05-17', '2021-05-18',\n",
       "               '2021-05-19', '2021-05-20', '2021-05-21', '2021-05-24',\n",
       "               '2021-05-25', '2021-05-26', '2021-05-27', '2021-05-28',\n",
       "               '2021-06-01', '2021-06-02', '2021-06-03', '2021-06-04',\n",
       "               '2021-06-07', '2021-06-08', '2021-06-09', '2021-06-10',\n",
       "               '2021-06-11', '2021-06-14', '2021-06-15', '2021-06-16',\n",
       "               '2021-06-17', '2021-06-18', '2021-06-21', '2021-06-22',\n",
       "               '2021-06-23', '2021-06-24', '2021-06-25', '2021-06-28',\n",
       "               '2021-06-29', '2021-06-30', '2021-07-01'],\n",
       "              dtype='datetime64[ns]', freq='C')"
      ]
     },
     "execution_count": 17,
     "metadata": {},
     "output_type": "execute_result"
    }
   ],
   "source": [
    "df2.index"
   ]
  },
  {
   "cell_type": "markdown",
   "metadata": {},
   "source": [
    "## 3. to_datetime function"
   ]
  },
  {
   "cell_type": "code",
   "execution_count": 18,
   "metadata": {},
   "outputs": [
    {
     "data": {
      "text/plain": [
       "DatetimeIndex(['2021-07-07', '2021-07-07', '2021-07-07', '2021-07-07',\n",
       "               '2021-07-07', '2021-07-07'],\n",
       "              dtype='datetime64[ns]', freq=None)"
      ]
     },
     "execution_count": 18,
     "metadata": {},
     "output_type": "execute_result"
    }
   ],
   "source": [
    "dates = ['2021-07-07', '07/07/2021', '2021/07/07', 'July 7, 2021', '2021.07.07', '20210707']\n",
    "pd.to_datetime(dates)"
   ]
  },
  {
   "cell_type": "code",
   "execution_count": 19,
   "metadata": {},
   "outputs": [
    {
     "data": {
      "text/plain": [
       "DatetimeIndex(['2021-07-07 16:30:00', '2021-07-07 00:00:00',\n",
       "               '2021-07-07 16:30:00', '2021-07-07 00:00:00',\n",
       "               '2021-07-07 00:00:00', '2021-07-07 00:00:00'],\n",
       "              dtype='datetime64[ns]', freq=None)"
      ]
     },
     "execution_count": 19,
     "metadata": {},
     "output_type": "execute_result"
    }
   ],
   "source": [
    "dates = ['2021-07-07 4:30:00 PM', '07/07/2021', '2021/07/07 16:30:00', 'July 7, 2021', '2021.07.07', '20210707']\n",
    "pd.to_datetime(dates)"
   ]
  },
  {
   "cell_type": "code",
   "execution_count": 25,
   "metadata": {},
   "outputs": [
    {
     "data": {
      "text/plain": [
       "Timestamp('2021-07-09 00:00:00')"
      ]
     },
     "execution_count": 25,
     "metadata": {},
     "output_type": "execute_result"
    }
   ],
   "source": [
    "pd.to_datetime('09-07-2021', dayfirst = True)"
   ]
  },
  {
   "cell_type": "code",
   "execution_count": 27,
   "metadata": {},
   "outputs": [
    {
     "data": {
      "text/plain": [
       "Timestamp('2021-09-07 00:00:00')"
      ]
     },
     "execution_count": 27,
     "metadata": {},
     "output_type": "execute_result"
    }
   ],
   "source": [
    "pd.to_datetime('09-07-2021')"
   ]
  },
  {
   "cell_type": "code",
   "execution_count": 23,
   "metadata": {},
   "outputs": [
    {
     "data": {
      "text/plain": [
       "Index(['2021–07–08', 'July 9, 2021', 'xyz'], dtype='object')"
      ]
     },
     "execution_count": 23,
     "metadata": {},
     "output_type": "execute_result"
    }
   ],
   "source": [
    "pd.to_datetime(['2021–07–08', 'July 9, 2021', 'xyz'], errors='ignore')"
   ]
  },
  {
   "cell_type": "code",
   "execution_count": 28,
   "metadata": {},
   "outputs": [
    {
     "data": {
      "text/plain": [
       "DatetimeIndex(['NaT', '2021-07-09', 'NaT'], dtype='datetime64[ns]', freq=None)"
      ]
     },
     "execution_count": 28,
     "metadata": {},
     "output_type": "execute_result"
    }
   ],
   "source": [
    "pd.to_datetime(['2021–07–08', 'July 9, 2021', 'xyz'], errors='coerce')"
   ]
  },
  {
   "cell_type": "markdown",
   "metadata": {},
   "source": [
    "## 4. Period and PeriodIndex"
   ]
  },
  {
   "cell_type": "code",
   "execution_count": 30,
   "metadata": {},
   "outputs": [
    {
     "data": {
      "text/plain": [
       "Period('2021', 'A-DEC')"
      ]
     },
     "execution_count": 30,
     "metadata": {},
     "output_type": "execute_result"
    }
   ],
   "source": [
    "y = pd.Period('2021')\n",
    "y"
   ]
  },
  {
   "cell_type": "code",
   "execution_count": 31,
   "metadata": {},
   "outputs": [
    {
     "data": {
      "text/plain": [
       "Timestamp('2021-01-01 00:00:00')"
      ]
     },
     "execution_count": 31,
     "metadata": {},
     "output_type": "execute_result"
    }
   ],
   "source": [
    "y.start_time"
   ]
  },
  {
   "cell_type": "code",
   "execution_count": 32,
   "metadata": {},
   "outputs": [
    {
     "data": {
      "text/plain": [
       "Timestamp('2021-12-31 23:59:59.999999999')"
      ]
     },
     "execution_count": 32,
     "metadata": {},
     "output_type": "execute_result"
    }
   ],
   "source": [
    "y.end_time"
   ]
  },
  {
   "cell_type": "code",
   "execution_count": 34,
   "metadata": {},
   "outputs": [
    {
     "data": {
      "text/plain": [
       "Period('2021-07', 'M')"
      ]
     },
     "execution_count": 34,
     "metadata": {},
     "output_type": "execute_result"
    }
   ],
   "source": [
    "m = pd.Period('2021-7', freq='M')\n",
    "m"
   ]
  },
  {
   "cell_type": "code",
   "execution_count": 35,
   "metadata": {},
   "outputs": [
    {
     "data": {
      "text/plain": [
       "Period('2021-08', 'M')"
      ]
     },
     "execution_count": 35,
     "metadata": {},
     "output_type": "execute_result"
    }
   ],
   "source": [
    "m+1"
   ]
  },
  {
   "cell_type": "code",
   "execution_count": 36,
   "metadata": {},
   "outputs": [
    {
     "data": {
      "text/plain": [
       "Period('2021-07-07 23:00', 'H')"
      ]
     },
     "execution_count": 36,
     "metadata": {},
     "output_type": "execute_result"
    }
   ],
   "source": [
    "h = pd.Period('2021-7-7 23:51:00', freq='H')\n",
    "h"
   ]
  },
  {
   "cell_type": "code",
   "execution_count": 37,
   "metadata": {},
   "outputs": [
    {
     "data": {
      "text/plain": [
       "Period('2021Q4', 'Q-MAR')"
      ]
     },
     "execution_count": 37,
     "metadata": {},
     "output_type": "execute_result"
    }
   ],
   "source": [
    "q = pd.Period('2021Q4', freq='Q-MAR')\n",
    "q"
   ]
  },
  {
   "cell_type": "code",
   "execution_count": 38,
   "metadata": {},
   "outputs": [
    {
     "data": {
      "text/plain": [
       "Period('2021-01', 'M')"
      ]
     },
     "execution_count": 38,
     "metadata": {},
     "output_type": "execute_result"
    }
   ],
   "source": [
    "q.asfreq('M',how='start')"
   ]
  },
  {
   "cell_type": "code",
   "execution_count": 39,
   "metadata": {},
   "outputs": [
    {
     "data": {
      "text/plain": [
       "Period('2021-03', 'M')"
      ]
     },
     "execution_count": 39,
     "metadata": {},
     "output_type": "execute_result"
    }
   ],
   "source": [
    "q.asfreq('M',how='end')"
   ]
  },
  {
   "cell_type": "code",
   "execution_count": 40,
   "metadata": {},
   "outputs": [
    {
     "data": {
      "text/plain": [
       "PeriodIndex(['2017Q1', '2017Q2', '2017Q3', '2017Q4', '2018Q1', '2018Q2',\n",
       "             '2018Q3', '2018Q4', '2019Q1', '2019Q2', '2019Q3', '2019Q4',\n",
       "             '2020Q1', '2020Q2', '2020Q3', '2020Q4', '2021Q1'],\n",
       "            dtype='period[Q-DEC]', freq='Q-DEC')"
      ]
     },
     "execution_count": 40,
     "metadata": {},
     "output_type": "execute_result"
    }
   ],
   "source": [
    "idx = pd.period_range('2017', '2021', freq='Q')\n",
    "idx"
   ]
  },
  {
   "cell_type": "code",
   "execution_count": 41,
   "metadata": {},
   "outputs": [
    {
     "data": {
      "text/plain": [
       "Timestamp('2017-03-31 23:59:59.999999999')"
      ]
     },
     "execution_count": 41,
     "metadata": {},
     "output_type": "execute_result"
    }
   ],
   "source": [
    "idx[0].start_time\n",
    "idx[0].end_time"
   ]
  },
  {
   "cell_type": "markdown",
   "metadata": {},
   "source": [
    "### A Brief Example of Fiscal Year Ends in January"
   ]
  },
  {
   "cell_type": "code",
   "execution_count": 42,
   "metadata": {
    "scrolled": true
   },
   "outputs": [
    {
     "data": {
      "text/plain": [
       "PeriodIndex(['2017Q4', '2018Q1', '2018Q2', '2018Q3', '2018Q4', '2019Q1',\n",
       "             '2019Q2', '2019Q3', '2019Q4', '2020Q1', '2020Q2', '2020Q3',\n",
       "             '2020Q4', '2021Q1', '2021Q2', '2021Q3', '2021Q4'],\n",
       "            dtype='period[Q-JAN]', freq='Q-JAN')"
      ]
     },
     "execution_count": 42,
     "metadata": {},
     "output_type": "execute_result"
    }
   ],
   "source": [
    "idx = pd.period_range('2017', '2021', freq='Q-JAN')\n",
    "idx"
   ]
  },
  {
   "cell_type": "code",
   "execution_count": 43,
   "metadata": {},
   "outputs": [
    {
     "data": {
      "text/plain": [
       "PeriodIndex(['2017Q4', '2018Q1', '2018Q2', '2018Q3', '2018Q4', '2019Q1',\n",
       "             '2019Q2', '2019Q3', '2019Q4', '2020Q1'],\n",
       "            dtype='period[Q-JAN]', freq='Q-JAN')"
      ]
     },
     "execution_count": 43,
     "metadata": {},
     "output_type": "execute_result"
    }
   ],
   "source": [
    "idx = pd.period_range('2017', periods=10, freq='Q-JAN')\n",
    "idx"
   ]
  },
  {
   "cell_type": "markdown",
   "metadata": {},
   "source": [
    "### A Simple Example of Processing Walmart's Financial"
   ]
  },
  {
   "cell_type": "code",
   "execution_count": 69,
   "metadata": {},
   "outputs": [
    {
     "data": {
      "text/html": [
       "<div>\n",
       "<style scoped>\n",
       "    .dataframe tbody tr th:only-of-type {\n",
       "        vertical-align: middle;\n",
       "    }\n",
       "\n",
       "    .dataframe tbody tr th {\n",
       "        vertical-align: top;\n",
       "    }\n",
       "\n",
       "    .dataframe thead th {\n",
       "        text-align: right;\n",
       "    }\n",
       "</style>\n",
       "<table border=\"1\" class=\"dataframe\">\n",
       "  <thead>\n",
       "    <tr style=\"text-align: right;\">\n",
       "      <th></th>\n",
       "      <th>Line Item</th>\n",
       "      <th>2017Q1</th>\n",
       "      <th>2017Q2</th>\n",
       "      <th>2017Q3</th>\n",
       "      <th>2017Q4</th>\n",
       "      <th>2018Q1</th>\n",
       "    </tr>\n",
       "  </thead>\n",
       "  <tbody>\n",
       "    <tr>\n",
       "      <th>0</th>\n",
       "      <td>Revenue</td>\n",
       "      <td>115904</td>\n",
       "      <td>120854</td>\n",
       "      <td>118179</td>\n",
       "      <td>130936</td>\n",
       "      <td>117542</td>\n",
       "    </tr>\n",
       "    <tr>\n",
       "      <th>1</th>\n",
       "      <td>Expenses</td>\n",
       "      <td>86544</td>\n",
       "      <td>89485</td>\n",
       "      <td>87484</td>\n",
       "      <td>97743</td>\n",
       "      <td>87688</td>\n",
       "    </tr>\n",
       "    <tr>\n",
       "      <th>2</th>\n",
       "      <td>Profit</td>\n",
       "      <td>29360</td>\n",
       "      <td>31369</td>\n",
       "      <td>30695</td>\n",
       "      <td>33193</td>\n",
       "      <td>29854</td>\n",
       "    </tr>\n",
       "  </tbody>\n",
       "</table>\n",
       "</div>"
      ],
      "text/plain": [
       "  Line Item  2017Q1  2017Q2  2017Q3  2017Q4  2018Q1\n",
       "0   Revenue  115904  120854  118179  130936  117542\n",
       "1  Expenses   86544   89485   87484   97743   87688\n",
       "2    Profit   29360   31369   30695   33193   29854"
      ]
     },
     "execution_count": 69,
     "metadata": {},
     "output_type": "execute_result"
    }
   ],
   "source": [
    "df = pd.read_csv('wmt.csv')\n",
    "df"
   ]
  },
  {
   "cell_type": "code",
   "execution_count": 70,
   "metadata": {},
   "outputs": [
    {
     "data": {
      "text/html": [
       "<div>\n",
       "<style scoped>\n",
       "    .dataframe tbody tr th:only-of-type {\n",
       "        vertical-align: middle;\n",
       "    }\n",
       "\n",
       "    .dataframe tbody tr th {\n",
       "        vertical-align: top;\n",
       "    }\n",
       "\n",
       "    .dataframe thead th {\n",
       "        text-align: right;\n",
       "    }\n",
       "</style>\n",
       "<table border=\"1\" class=\"dataframe\">\n",
       "  <thead>\n",
       "    <tr style=\"text-align: right;\">\n",
       "      <th></th>\n",
       "      <th>2017Q1</th>\n",
       "      <th>2017Q2</th>\n",
       "      <th>2017Q3</th>\n",
       "      <th>2017Q4</th>\n",
       "      <th>2018Q1</th>\n",
       "    </tr>\n",
       "    <tr>\n",
       "      <th>Line Item</th>\n",
       "      <th></th>\n",
       "      <th></th>\n",
       "      <th></th>\n",
       "      <th></th>\n",
       "      <th></th>\n",
       "    </tr>\n",
       "  </thead>\n",
       "  <tbody>\n",
       "    <tr>\n",
       "      <th>Revenue</th>\n",
       "      <td>115904</td>\n",
       "      <td>120854</td>\n",
       "      <td>118179</td>\n",
       "      <td>130936</td>\n",
       "      <td>117542</td>\n",
       "    </tr>\n",
       "    <tr>\n",
       "      <th>Expenses</th>\n",
       "      <td>86544</td>\n",
       "      <td>89485</td>\n",
       "      <td>87484</td>\n",
       "      <td>97743</td>\n",
       "      <td>87688</td>\n",
       "    </tr>\n",
       "    <tr>\n",
       "      <th>Profit</th>\n",
       "      <td>29360</td>\n",
       "      <td>31369</td>\n",
       "      <td>30695</td>\n",
       "      <td>33193</td>\n",
       "      <td>29854</td>\n",
       "    </tr>\n",
       "  </tbody>\n",
       "</table>\n",
       "</div>"
      ],
      "text/plain": [
       "           2017Q1  2017Q2  2017Q3  2017Q4  2018Q1\n",
       "Line Item                                        \n",
       "Revenue    115904  120854  118179  130936  117542\n",
       "Expenses    86544   89485   87484   97743   87688\n",
       "Profit      29360   31369   30695   33193   29854"
      ]
     },
     "execution_count": 70,
     "metadata": {},
     "output_type": "execute_result"
    }
   ],
   "source": [
    "df.set_index('Line Item', inplace = True)\n",
    "df"
   ]
  },
  {
   "cell_type": "code",
   "execution_count": 71,
   "metadata": {},
   "outputs": [
    {
     "data": {
      "text/html": [
       "<div>\n",
       "<style scoped>\n",
       "    .dataframe tbody tr th:only-of-type {\n",
       "        vertical-align: middle;\n",
       "    }\n",
       "\n",
       "    .dataframe tbody tr th {\n",
       "        vertical-align: top;\n",
       "    }\n",
       "\n",
       "    .dataframe thead th {\n",
       "        text-align: right;\n",
       "    }\n",
       "</style>\n",
       "<table border=\"1\" class=\"dataframe\">\n",
       "  <thead>\n",
       "    <tr style=\"text-align: right;\">\n",
       "      <th>Line Item</th>\n",
       "      <th>Revenue</th>\n",
       "      <th>Expenses</th>\n",
       "      <th>Profit</th>\n",
       "    </tr>\n",
       "  </thead>\n",
       "  <tbody>\n",
       "    <tr>\n",
       "      <th>2017Q1</th>\n",
       "      <td>115904</td>\n",
       "      <td>86544</td>\n",
       "      <td>29360</td>\n",
       "    </tr>\n",
       "    <tr>\n",
       "      <th>2017Q2</th>\n",
       "      <td>120854</td>\n",
       "      <td>89485</td>\n",
       "      <td>31369</td>\n",
       "    </tr>\n",
       "    <tr>\n",
       "      <th>2017Q3</th>\n",
       "      <td>118179</td>\n",
       "      <td>87484</td>\n",
       "      <td>30695</td>\n",
       "    </tr>\n",
       "    <tr>\n",
       "      <th>2017Q4</th>\n",
       "      <td>130936</td>\n",
       "      <td>97743</td>\n",
       "      <td>33193</td>\n",
       "    </tr>\n",
       "    <tr>\n",
       "      <th>2018Q1</th>\n",
       "      <td>117542</td>\n",
       "      <td>87688</td>\n",
       "      <td>29854</td>\n",
       "    </tr>\n",
       "  </tbody>\n",
       "</table>\n",
       "</div>"
      ],
      "text/plain": [
       "Line Item  Revenue  Expenses  Profit\n",
       "2017Q1      115904     86544   29360\n",
       "2017Q2      120854     89485   31369\n",
       "2017Q3      118179     87484   30695\n",
       "2017Q4      130936     97743   33193\n",
       "2018Q1      117542     87688   29854"
      ]
     },
     "execution_count": 71,
     "metadata": {},
     "output_type": "execute_result"
    }
   ],
   "source": [
    "df = df.T\n",
    "df"
   ]
  },
  {
   "cell_type": "code",
   "execution_count": 72,
   "metadata": {},
   "outputs": [
    {
     "data": {
      "text/plain": [
       "Index(['2017Q1', '2017Q2', '2017Q3', '2017Q4', '2018Q1'], dtype='object')"
      ]
     },
     "execution_count": 72,
     "metadata": {},
     "output_type": "execute_result"
    }
   ],
   "source": [
    "df.index"
   ]
  },
  {
   "cell_type": "code",
   "execution_count": 74,
   "metadata": {},
   "outputs": [
    {
     "data": {
      "text/plain": [
       "PeriodIndex(['2017Q1', '2017Q2', '2017Q3', '2017Q4', '2018Q1'], dtype='period[Q-JAN]', freq='Q-JAN')"
      ]
     },
     "execution_count": 74,
     "metadata": {},
     "output_type": "execute_result"
    }
   ],
   "source": [
    "#convert object to period index\n",
    "df.index = pd.PeriodIndex(df.index, freq = 'Q-JAN')\n",
    "df.index"
   ]
  },
  {
   "cell_type": "code",
   "execution_count": 75,
   "metadata": {
    "scrolled": true
   },
   "outputs": [
    {
     "data": {
      "text/html": [
       "<div>\n",
       "<style scoped>\n",
       "    .dataframe tbody tr th:only-of-type {\n",
       "        vertical-align: middle;\n",
       "    }\n",
       "\n",
       "    .dataframe tbody tr th {\n",
       "        vertical-align: top;\n",
       "    }\n",
       "\n",
       "    .dataframe thead th {\n",
       "        text-align: right;\n",
       "    }\n",
       "</style>\n",
       "<table border=\"1\" class=\"dataframe\">\n",
       "  <thead>\n",
       "    <tr style=\"text-align: right;\">\n",
       "      <th>Line Item</th>\n",
       "      <th>Revenue</th>\n",
       "      <th>Expenses</th>\n",
       "      <th>Profit</th>\n",
       "      <th>start date</th>\n",
       "    </tr>\n",
       "  </thead>\n",
       "  <tbody>\n",
       "    <tr>\n",
       "      <th>2017Q1</th>\n",
       "      <td>115904</td>\n",
       "      <td>86544</td>\n",
       "      <td>29360</td>\n",
       "      <td>2016-02-01</td>\n",
       "    </tr>\n",
       "    <tr>\n",
       "      <th>2017Q2</th>\n",
       "      <td>120854</td>\n",
       "      <td>89485</td>\n",
       "      <td>31369</td>\n",
       "      <td>2016-05-01</td>\n",
       "    </tr>\n",
       "    <tr>\n",
       "      <th>2017Q3</th>\n",
       "      <td>118179</td>\n",
       "      <td>87484</td>\n",
       "      <td>30695</td>\n",
       "      <td>2016-08-01</td>\n",
       "    </tr>\n",
       "    <tr>\n",
       "      <th>2017Q4</th>\n",
       "      <td>130936</td>\n",
       "      <td>97743</td>\n",
       "      <td>33193</td>\n",
       "      <td>2016-11-01</td>\n",
       "    </tr>\n",
       "    <tr>\n",
       "      <th>2018Q1</th>\n",
       "      <td>117542</td>\n",
       "      <td>87688</td>\n",
       "      <td>29854</td>\n",
       "      <td>2017-02-01</td>\n",
       "    </tr>\n",
       "  </tbody>\n",
       "</table>\n",
       "</div>"
      ],
      "text/plain": [
       "Line Item  Revenue  Expenses  Profit start date\n",
       "2017Q1      115904     86544   29360 2016-02-01\n",
       "2017Q2      120854     89485   31369 2016-05-01\n",
       "2017Q3      118179     87484   30695 2016-08-01\n",
       "2017Q4      130936     97743   33193 2016-11-01\n",
       "2018Q1      117542     87688   29854 2017-02-01"
      ]
     },
     "execution_count": 75,
     "metadata": {},
     "output_type": "execute_result"
    }
   ],
   "source": [
    "df['start date'] = df.index.map(lambda x: x.start_time)\n",
    "df"
   ]
  },
  {
   "cell_type": "code",
   "execution_count": 76,
   "metadata": {},
   "outputs": [
    {
     "data": {
      "text/html": [
       "<div>\n",
       "<style scoped>\n",
       "    .dataframe tbody tr th:only-of-type {\n",
       "        vertical-align: middle;\n",
       "    }\n",
       "\n",
       "    .dataframe tbody tr th {\n",
       "        vertical-align: top;\n",
       "    }\n",
       "\n",
       "    .dataframe thead th {\n",
       "        text-align: right;\n",
       "    }\n",
       "</style>\n",
       "<table border=\"1\" class=\"dataframe\">\n",
       "  <thead>\n",
       "    <tr style=\"text-align: right;\">\n",
       "      <th>Line Item</th>\n",
       "      <th>Revenue</th>\n",
       "      <th>Expenses</th>\n",
       "      <th>Profit</th>\n",
       "      <th>start date</th>\n",
       "      <th>end date</th>\n",
       "    </tr>\n",
       "  </thead>\n",
       "  <tbody>\n",
       "    <tr>\n",
       "      <th>2017Q1</th>\n",
       "      <td>115904</td>\n",
       "      <td>86544</td>\n",
       "      <td>29360</td>\n",
       "      <td>2016-02-01</td>\n",
       "      <td>2016-04-30 23:59:59.999999999</td>\n",
       "    </tr>\n",
       "    <tr>\n",
       "      <th>2017Q2</th>\n",
       "      <td>120854</td>\n",
       "      <td>89485</td>\n",
       "      <td>31369</td>\n",
       "      <td>2016-05-01</td>\n",
       "      <td>2016-07-31 23:59:59.999999999</td>\n",
       "    </tr>\n",
       "    <tr>\n",
       "      <th>2017Q3</th>\n",
       "      <td>118179</td>\n",
       "      <td>87484</td>\n",
       "      <td>30695</td>\n",
       "      <td>2016-08-01</td>\n",
       "      <td>2016-10-31 23:59:59.999999999</td>\n",
       "    </tr>\n",
       "    <tr>\n",
       "      <th>2017Q4</th>\n",
       "      <td>130936</td>\n",
       "      <td>97743</td>\n",
       "      <td>33193</td>\n",
       "      <td>2016-11-01</td>\n",
       "      <td>2017-01-31 23:59:59.999999999</td>\n",
       "    </tr>\n",
       "    <tr>\n",
       "      <th>2018Q1</th>\n",
       "      <td>117542</td>\n",
       "      <td>87688</td>\n",
       "      <td>29854</td>\n",
       "      <td>2017-02-01</td>\n",
       "      <td>2017-04-30 23:59:59.999999999</td>\n",
       "    </tr>\n",
       "  </tbody>\n",
       "</table>\n",
       "</div>"
      ],
      "text/plain": [
       "Line Item  Revenue  Expenses  Profit start date                      end date\n",
       "2017Q1      115904     86544   29360 2016-02-01 2016-04-30 23:59:59.999999999\n",
       "2017Q2      120854     89485   31369 2016-05-01 2016-07-31 23:59:59.999999999\n",
       "2017Q3      118179     87484   30695 2016-08-01 2016-10-31 23:59:59.999999999\n",
       "2017Q4      130936     97743   33193 2016-11-01 2017-01-31 23:59:59.999999999\n",
       "2018Q1      117542     87688   29854 2017-02-01 2017-04-30 23:59:59.999999999"
      ]
     },
     "execution_count": 76,
     "metadata": {},
     "output_type": "execute_result"
    }
   ],
   "source": [
    "df['end date'] = df.index.map(lambda x: x.end_time)\n",
    "df"
   ]
  },
  {
   "cell_type": "code",
   "execution_count": null,
   "metadata": {},
   "outputs": [],
   "source": []
  }
 ],
 "metadata": {
  "kernelspec": {
   "display_name": "Python 3",
   "language": "python",
   "name": "python3"
  },
  "language_info": {
   "codemirror_mode": {
    "name": "ipython",
    "version": 3
   },
   "file_extension": ".py",
   "mimetype": "text/x-python",
   "name": "python",
   "nbconvert_exporter": "python",
   "pygments_lexer": "ipython3",
   "version": "3.8.5"
  }
 },
 "nbformat": 4,
 "nbformat_minor": 4
}
